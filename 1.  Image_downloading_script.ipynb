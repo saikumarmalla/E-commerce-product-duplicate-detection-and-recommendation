{
 "cells": [
  {
   "cell_type": "markdown",
   "metadata": {},
   "source": [
    "# Image Downloading Script"
   ]
  },
  {
   "cell_type": "markdown",
   "metadata": {},
   "source": [
    "I have downloaded all images from 'imageUrlStr' features."
   ]
  },
  {
   "cell_type": "code",
   "execution_count": 1,
   "metadata": {},
   "outputs": [],
   "source": [
    "#import all the necessary packages.\n",
    "\n",
    "from PIL import Image\n",
    "import requests\n",
    "from io import BytesIO\n",
    "import matplotlib.pyplot as plt\n",
    "import numpy as np\n",
    "import pandas as pd\n",
    "import warnings\n",
    "from bs4 import BeautifulSoup\n"
   ]
  },
  {
   "cell_type": "code",
   "execution_count": 3,
   "metadata": {},
   "outputs": [
    {
     "ename": "AttributeError",
     "evalue": "module 'tensorflow' has no attribute 'Session'",
     "output_type": "error",
     "traceback": [
      "\u001b[0;31m---------------------------------------------------------------------------\u001b[0m",
      "\u001b[0;31mAttributeError\u001b[0m                            Traceback (most recent call last)",
      "\u001b[0;32m<ipython-input-3-9b8867d33fea>\u001b[0m in \u001b[0;36m<module>\u001b[0;34m\u001b[0m\n\u001b[1;32m      6\u001b[0m \u001b[0mconfig\u001b[0m \u001b[0;34m=\u001b[0m \u001b[0mtf\u001b[0m\u001b[0;34m.\u001b[0m\u001b[0mcompat\u001b[0m\u001b[0;34m.\u001b[0m\u001b[0mv1\u001b[0m\u001b[0;34m.\u001b[0m\u001b[0mConfigProto\u001b[0m\u001b[0;34m(\u001b[0m\u001b[0;34m)\u001b[0m\u001b[0;34m\u001b[0m\u001b[0;34m\u001b[0m\u001b[0m\n\u001b[1;32m      7\u001b[0m \u001b[0mconfig\u001b[0m\u001b[0;34m.\u001b[0m\u001b[0mgpu_options\u001b[0m\u001b[0;34m.\u001b[0m\u001b[0mallow_growth\u001b[0m\u001b[0;34m=\u001b[0m\u001b[0;32mTrue\u001b[0m\u001b[0;34m\u001b[0m\u001b[0;34m\u001b[0m\u001b[0m\n\u001b[0;32m----> 8\u001b[0;31m \u001b[0msess\u001b[0m \u001b[0;34m=\u001b[0m \u001b[0mtf\u001b[0m\u001b[0;34m.\u001b[0m\u001b[0mSession\u001b[0m\u001b[0;34m(\u001b[0m\u001b[0mconfig\u001b[0m\u001b[0;34m=\u001b[0m\u001b[0mconfig\u001b[0m\u001b[0;34m)\u001b[0m\u001b[0;34m\u001b[0m\u001b[0;34m\u001b[0m\u001b[0m\n\u001b[0m\u001b[1;32m      9\u001b[0m \u001b[0mkeras\u001b[0m\u001b[0;34m.\u001b[0m\u001b[0mbackend\u001b[0m\u001b[0;34m.\u001b[0m\u001b[0mset_session\u001b[0m\u001b[0;34m(\u001b[0m\u001b[0msess\u001b[0m\u001b[0;34m)\u001b[0m\u001b[0;34m\u001b[0m\u001b[0;34m\u001b[0m\u001b[0m\n",
      "\u001b[0;31mAttributeError\u001b[0m: module 'tensorflow' has no attribute 'Session'"
     ]
    }
   ],
   "source": [
    "import os\n",
    "\n",
    "os.environ[\"CUDA_VISIBLE_DEVICES\"]=\"1\"\n",
    "import tensorflow as tf\n",
    "import keras\n",
    "config = tf.compat.v1.ConfigProto()\n",
    "config.gpu_options.allow_growth=True\n",
    "sess = tf.Session(config=config)\n",
    "keras.backend.set_session(sess)"
   ]
  },
  {
   "cell_type": "code",
   "execution_count": 3,
   "metadata": {},
   "outputs": [
    {
     "name": "stderr",
     "output_type": "stream",
     "text": [
      "/home/sai/anaconda3/lib/python3.7/site-packages/IPython/core/interactiveshell.py:3058: DtypeWarning: Columns (19,20,21,24,26,27,28,31,32,33,34,35,36,37,38,39,40,41,42,43,44,45,46,47,48,49,50,51,52) have mixed types. Specify dtype option on import or set low_memory=False.\n",
      "  interactivity=interactivity, compiler=compiler, result=result)\n"
     ]
    }
   ],
   "source": [
    "data = pd.read_csv('datafile.csv')"
   ]
  },
  {
   "cell_type": "code",
   "execution_count": 4,
   "metadata": {
    "scrolled": false
   },
   "outputs": [
    {
     "data": {
      "text/html": [
       "<div>\n",
       "<style scoped>\n",
       "    .dataframe tbody tr th:only-of-type {\n",
       "        vertical-align: middle;\n",
       "    }\n",
       "\n",
       "    .dataframe tbody tr th {\n",
       "        vertical-align: top;\n",
       "    }\n",
       "\n",
       "    .dataframe thead th {\n",
       "        text-align: right;\n",
       "    }\n",
       "</style>\n",
       "<table border=\"1\" class=\"dataframe\">\n",
       "  <thead>\n",
       "    <tr style=\"text-align: right;\">\n",
       "      <th></th>\n",
       "      <th>productId</th>\n",
       "      <th>title</th>\n",
       "      <th>description</th>\n",
       "      <th>imageUrlStr</th>\n",
       "      <th>mrp</th>\n",
       "      <th>sellingPrice</th>\n",
       "      <th>specialPrice</th>\n",
       "      <th>productUrl</th>\n",
       "      <th>categories</th>\n",
       "      <th>productBrand</th>\n",
       "      <th>...</th>\n",
       "      <th>Unnamed: 43</th>\n",
       "      <th>Unnamed: 44</th>\n",
       "      <th>Unnamed: 45</th>\n",
       "      <th>Unnamed: 46</th>\n",
       "      <th>Unnamed: 47</th>\n",
       "      <th>Unnamed: 48</th>\n",
       "      <th>Unnamed: 49</th>\n",
       "      <th>Unnamed: 50</th>\n",
       "      <th>Unnamed: 51</th>\n",
       "      <th>Unnamed: 52</th>\n",
       "    </tr>\n",
       "  </thead>\n",
       "  <tbody>\n",
       "    <tr>\n",
       "      <td>0</td>\n",
       "      <td>TOPE9ABBZU3HZRHN</td>\n",
       "      <td>Citrine Casual Short Sleeve Printed Women's Pi...</td>\n",
       "      <td>This beautiful printed modal top from Citrine ...</td>\n",
       "      <td>http://img.fkcdn.com/image/top/r/h/n/1-1-wwtpw...</td>\n",
       "      <td>1099</td>\n",
       "      <td>329.0</td>\n",
       "      <td>329.0</td>\n",
       "      <td>http://dl.flipkart.com/dl/citrine-casual-short...</td>\n",
       "      <td>Apparels&gt;Women&gt;Western Wear&gt;Shirts, Tops &amp; Tun...</td>\n",
       "      <td>Citrine</td>\n",
       "      <td>...</td>\n",
       "      <td>NaN</td>\n",
       "      <td>NaN</td>\n",
       "      <td>NaN</td>\n",
       "      <td>NaN</td>\n",
       "      <td>NaN</td>\n",
       "      <td>NaN</td>\n",
       "      <td>NaN</td>\n",
       "      <td>NaN</td>\n",
       "      <td>NaN</td>\n",
       "      <td>NaN</td>\n",
       "    </tr>\n",
       "    <tr>\n",
       "      <td>1</td>\n",
       "      <td>TOPE9ABBBTJYDSQE</td>\n",
       "      <td>Citrine Casual Short Sleeve Printed Women's Pi...</td>\n",
       "      <td>This beautiful printed modal top from Citrine ...</td>\n",
       "      <td>http://img.fkcdn.com/image/top/r/h/n/1-1-wwtpw...</td>\n",
       "      <td>1099</td>\n",
       "      <td>329.0</td>\n",
       "      <td>329.0</td>\n",
       "      <td>http://dl.flipkart.com/dl/citrine-casual-short...</td>\n",
       "      <td>Apparels&gt;Women&gt;Western Wear&gt;Shirts, Tops &amp; Tun...</td>\n",
       "      <td>Citrine</td>\n",
       "      <td>...</td>\n",
       "      <td>NaN</td>\n",
       "      <td>NaN</td>\n",
       "      <td>NaN</td>\n",
       "      <td>NaN</td>\n",
       "      <td>NaN</td>\n",
       "      <td>NaN</td>\n",
       "      <td>NaN</td>\n",
       "      <td>NaN</td>\n",
       "      <td>NaN</td>\n",
       "      <td>NaN</td>\n",
       "    </tr>\n",
       "    <tr>\n",
       "      <td>2</td>\n",
       "      <td>TOPE9AZZSMSZFYAM</td>\n",
       "      <td>Leelan Casual Short Sleeve Solid Women's Black...</td>\n",
       "      <td>NaN</td>\n",
       "      <td>http://img.fkcdn.com/image/top/y/a/m/1-1-10009...</td>\n",
       "      <td>524</td>\n",
       "      <td>262.0</td>\n",
       "      <td>262.0</td>\n",
       "      <td>http://dl.flipkart.com/dl/leelan-casual-short-...</td>\n",
       "      <td>Apparels&gt;Women&gt;Western Wear&gt;Shirts, Tops &amp; Tun...</td>\n",
       "      <td>Leelan</td>\n",
       "      <td>...</td>\n",
       "      <td>NaN</td>\n",
       "      <td>NaN</td>\n",
       "      <td>NaN</td>\n",
       "      <td>NaN</td>\n",
       "      <td>NaN</td>\n",
       "      <td>NaN</td>\n",
       "      <td>NaN</td>\n",
       "      <td>NaN</td>\n",
       "      <td>NaN</td>\n",
       "      <td>NaN</td>\n",
       "    </tr>\n",
       "    <tr>\n",
       "      <td>3</td>\n",
       "      <td>TOPE6ZCYFCQ3H6EV</td>\n",
       "      <td>Cottinfab Casual Sleeveless Solid Women's Purp...</td>\n",
       "      <td>Round neck, sleeveless stylish top with pack o...</td>\n",
       "      <td>http://img.fkcdn.com/image/top/6/e/v/1-1-newds...</td>\n",
       "      <td>1399</td>\n",
       "      <td>799.0</td>\n",
       "      <td>719.0</td>\n",
       "      <td>http://dl.flipkart.com/dl/cottinfab-casual-sle...</td>\n",
       "      <td>Apparels&gt;Women&gt;Fusion Wear&gt;Shirts, Tops &amp; Tuni...</td>\n",
       "      <td>Cottinfab</td>\n",
       "      <td>...</td>\n",
       "      <td>NaN</td>\n",
       "      <td>NaN</td>\n",
       "      <td>NaN</td>\n",
       "      <td>NaN</td>\n",
       "      <td>NaN</td>\n",
       "      <td>NaN</td>\n",
       "      <td>NaN</td>\n",
       "      <td>NaN</td>\n",
       "      <td>NaN</td>\n",
       "      <td>NaN</td>\n",
       "    </tr>\n",
       "    <tr>\n",
       "      <td>4</td>\n",
       "      <td>TOPE6ZCYHTJEMZMW</td>\n",
       "      <td>Cottinfab Casual Sleeveless Solid Women's Purp...</td>\n",
       "      <td>V Neck with black net on front yoke, sleeveles...</td>\n",
       "      <td>http://img.fkcdn.com/image/top/x/7/r/1-1-newds...</td>\n",
       "      <td>799</td>\n",
       "      <td>249.0</td>\n",
       "      <td>224.0</td>\n",
       "      <td>http://dl.flipkart.com/dl/cottinfab-casual-sle...</td>\n",
       "      <td>Apparels&gt;Women&gt;Fusion Wear&gt;Shirts, Tops &amp; Tuni...</td>\n",
       "      <td>Cottinfab</td>\n",
       "      <td>...</td>\n",
       "      <td>NaN</td>\n",
       "      <td>NaN</td>\n",
       "      <td>NaN</td>\n",
       "      <td>NaN</td>\n",
       "      <td>NaN</td>\n",
       "      <td>NaN</td>\n",
       "      <td>NaN</td>\n",
       "      <td>NaN</td>\n",
       "      <td>NaN</td>\n",
       "      <td>NaN</td>\n",
       "    </tr>\n",
       "  </tbody>\n",
       "</table>\n",
       "<p>5 rows × 53 columns</p>\n",
       "</div>"
      ],
      "text/plain": [
       "          productId                                              title  \\\n",
       "0  TOPE9ABBZU3HZRHN  Citrine Casual Short Sleeve Printed Women's Pi...   \n",
       "1  TOPE9ABBBTJYDSQE  Citrine Casual Short Sleeve Printed Women's Pi...   \n",
       "2  TOPE9AZZSMSZFYAM  Leelan Casual Short Sleeve Solid Women's Black...   \n",
       "3  TOPE6ZCYFCQ3H6EV  Cottinfab Casual Sleeveless Solid Women's Purp...   \n",
       "4  TOPE6ZCYHTJEMZMW  Cottinfab Casual Sleeveless Solid Women's Purp...   \n",
       "\n",
       "                                         description  \\\n",
       "0  This beautiful printed modal top from Citrine ...   \n",
       "1  This beautiful printed modal top from Citrine ...   \n",
       "2                                                NaN   \n",
       "3  Round neck, sleeveless stylish top with pack o...   \n",
       "4  V Neck with black net on front yoke, sleeveles...   \n",
       "\n",
       "                                         imageUrlStr   mrp  sellingPrice  \\\n",
       "0  http://img.fkcdn.com/image/top/r/h/n/1-1-wwtpw...  1099         329.0   \n",
       "1  http://img.fkcdn.com/image/top/r/h/n/1-1-wwtpw...  1099         329.0   \n",
       "2  http://img.fkcdn.com/image/top/y/a/m/1-1-10009...   524         262.0   \n",
       "3  http://img.fkcdn.com/image/top/6/e/v/1-1-newds...  1399         799.0   \n",
       "4  http://img.fkcdn.com/image/top/x/7/r/1-1-newds...   799         249.0   \n",
       "\n",
       "   specialPrice                                         productUrl  \\\n",
       "0         329.0  http://dl.flipkart.com/dl/citrine-casual-short...   \n",
       "1         329.0  http://dl.flipkart.com/dl/citrine-casual-short...   \n",
       "2         262.0  http://dl.flipkart.com/dl/leelan-casual-short-...   \n",
       "3         719.0  http://dl.flipkart.com/dl/cottinfab-casual-sle...   \n",
       "4         224.0  http://dl.flipkart.com/dl/cottinfab-casual-sle...   \n",
       "\n",
       "                                          categories productBrand  ...  \\\n",
       "0  Apparels>Women>Western Wear>Shirts, Tops & Tun...      Citrine  ...   \n",
       "1  Apparels>Women>Western Wear>Shirts, Tops & Tun...      Citrine  ...   \n",
       "2  Apparels>Women>Western Wear>Shirts, Tops & Tun...       Leelan  ...   \n",
       "3  Apparels>Women>Fusion Wear>Shirts, Tops & Tuni...    Cottinfab  ...   \n",
       "4  Apparels>Women>Fusion Wear>Shirts, Tops & Tuni...    Cottinfab  ...   \n",
       "\n",
       "  Unnamed: 43  Unnamed: 44  Unnamed: 45  Unnamed: 46  Unnamed: 47  \\\n",
       "0         NaN          NaN          NaN          NaN          NaN   \n",
       "1         NaN          NaN          NaN          NaN          NaN   \n",
       "2         NaN          NaN          NaN          NaN          NaN   \n",
       "3         NaN          NaN          NaN          NaN          NaN   \n",
       "4         NaN          NaN          NaN          NaN          NaN   \n",
       "\n",
       "   Unnamed: 48 Unnamed: 49 Unnamed: 50 Unnamed: 51 Unnamed: 52  \n",
       "0          NaN         NaN         NaN         NaN         NaN  \n",
       "1          NaN         NaN         NaN         NaN         NaN  \n",
       "2          NaN         NaN         NaN         NaN         NaN  \n",
       "3          NaN         NaN         NaN         NaN         NaN  \n",
       "4          NaN         NaN         NaN         NaN         NaN  \n",
       "\n",
       "[5 rows x 53 columns]"
      ]
     },
     "execution_count": 4,
     "metadata": {},
     "output_type": "execute_result"
    }
   ],
   "source": [
    "data.head()"
   ]
  },
  {
   "cell_type": "code",
   "execution_count": 5,
   "metadata": {},
   "outputs": [
    {
     "name": "stdout",
     "output_type": "stream",
     "text": [
      "Number of data points :  346902 Number of features/variables: 53\n"
     ]
    }
   ],
   "source": [
    "print ('Number of data points : ', data.shape[0], \\\n",
    "       'Number of features/variables:', data.shape[1])"
   ]
  },
  {
   "cell_type": "code",
   "execution_count": 6,
   "metadata": {},
   "outputs": [
    {
     "data": {
      "text/plain": [
       "Index(['productId', 'title', 'description', 'imageUrlStr', 'mrp',\n",
       "       'sellingPrice', 'specialPrice', 'productUrl', 'categories',\n",
       "       'productBrand', 'productFamily', 'inStock', 'codAvailable', 'offers',\n",
       "       'discount', 'shippingCharges', 'deliveryTime', 'size', 'color',\n",
       "       'sizeUnit', 'storage', 'displaySize', 'keySpecsStr', 'detailedSpecsStr',\n",
       "       'specificationList', 'sellerName', 'sellerAverageRating',\n",
       "       'sellerNoOfRatings', 'sellerNoOfReviews', 'sleeve', 'neck', 'idealFor',\n",
       "       'Unnamed: 32', 'Unnamed: 33', 'Unnamed: 34', 'Unnamed: 35',\n",
       "       'Unnamed: 36', 'Unnamed: 37', 'Unnamed: 38', 'Unnamed: 39',\n",
       "       'Unnamed: 40', 'Unnamed: 41', 'Unnamed: 42', 'Unnamed: 43',\n",
       "       'Unnamed: 44', 'Unnamed: 45', 'Unnamed: 46', 'Unnamed: 47',\n",
       "       'Unnamed: 48', 'Unnamed: 49', 'Unnamed: 50', 'Unnamed: 51',\n",
       "       'Unnamed: 52'],\n",
       "      dtype='object')"
      ]
     },
     "execution_count": 6,
     "metadata": {},
     "output_type": "execute_result"
    }
   ],
   "source": [
    "data.columns "
   ]
  },
  {
   "cell_type": "code",
   "execution_count": 7,
   "metadata": {},
   "outputs": [
    {
     "data": {
      "text/plain": [
       "productId                   0\n",
       "title                       5\n",
       "description            131708\n",
       "imageUrlStr                 0\n",
       "mrp                         0\n",
       "sellingPrice                1\n",
       "specialPrice                1\n",
       "productUrl                  0\n",
       "categories                  0\n",
       "productBrand                2\n",
       "productFamily               1\n",
       "inStock                     0\n",
       "codAvailable                0\n",
       "offers                 346902\n",
       "discount                    0\n",
       "shippingCharges             1\n",
       "deliveryTime           173420\n",
       "size                        0\n",
       "color                     129\n",
       "sizeUnit               344804\n",
       "storage                346887\n",
       "displaySize            346886\n",
       "keySpecsStr              1008\n",
       "detailedSpecsStr         1029\n",
       "specificationList      346887\n",
       "sellerName                  1\n",
       "sellerAverageRating         0\n",
       "sellerNoOfRatings           8\n",
       "sellerNoOfReviews           6\n",
       "sleeve                   1106\n",
       "neck                     4953\n",
       "idealFor               346892\n",
       "Unnamed: 32            346887\n",
       "Unnamed: 33            346879\n",
       "Unnamed: 34            346887\n",
       "Unnamed: 35            346895\n",
       "Unnamed: 36            346886\n",
       "Unnamed: 37            346883\n",
       "Unnamed: 38            346884\n",
       "Unnamed: 39            346887\n",
       "Unnamed: 40            346879\n",
       "Unnamed: 41            346883\n",
       "Unnamed: 42            346893\n",
       "Unnamed: 43            346889\n",
       "Unnamed: 44            346888\n",
       "Unnamed: 45            346888\n",
       "Unnamed: 46            346895\n",
       "Unnamed: 47            346893\n",
       "Unnamed: 48            346895\n",
       "Unnamed: 49            346898\n",
       "Unnamed: 50            346898\n",
       "Unnamed: 51            346899\n",
       "Unnamed: 52            346900\n",
       "dtype: int64"
      ]
     },
     "execution_count": 7,
     "metadata": {},
     "output_type": "execute_result"
    }
   ],
   "source": [
    "data.isnull().sum()"
   ]
  },
  {
   "cell_type": "code",
   "execution_count": 8,
   "metadata": {},
   "outputs": [
    {
     "name": "stdout",
     "output_type": "stream",
     "text": [
      "count        346900\n",
      "unique         2335\n",
      "top       Vero Moda\n",
      "freq           8770\n",
      "Name: productBrand, dtype: object\n"
     ]
    }
   ],
   "source": [
    "print(data['productBrand'].describe())"
   ]
  },
  {
   "cell_type": "code",
   "execution_count": 9,
   "metadata": {},
   "outputs": [],
   "source": [
    "from PIL import Image\n",
    "import requests\n",
    "from io import BytesIO\n",
    "import os"
   ]
  },
  {
   "cell_type": "code",
   "execution_count": 10,
   "metadata": {},
   "outputs": [],
   "source": [
    "file1 = open(r\"File2.txt\",\"w+\")"
   ]
  },
  {
   "cell_type": "code",
   "execution_count": null,
   "metadata": {},
   "outputs": [],
   "source": [
    "\n",
    "for index, row in data.iterrows():\n",
    "        #print(url)\n",
    "        url = row['imageUrlStr']\n",
    "        url1 = url.split(';')[-1]\n",
    "\n",
    "        response = requests.get(url1, allow_redirects=True)\n",
    "        if response.status_code == 200:\n",
    "            file1.write(url1)\n",
    "            file1.write(\"\\n\")\n",
    "            #print(row['productId'] + '   **  4')\n",
    "            img = Image.open(BytesIO(response.content))\n",
    "            img.save('images/'+row['productId']+'.jpeg')\n",
    "        else:\n",
    "            url1 = url.split(';')[-2]\n",
    "            response = requests.get(url1, allow_redirects=True)\n",
    "            if response.status_code == 200:\n",
    "                print(row['productId'] + '**  -2')\n",
    "                file1.write(url1)\n",
    "                file1.write(\"\\n\")\n",
    "                img = Image.open(BytesIO(response.content))\n",
    "                img.save('images/'+row['productId']+'.jpeg')\n",
    "            else:\n",
    "                url1 = url.split(';')[-3]\n",
    "                response = requests.get(url1, allow_redirects=True)  \n",
    "                if response.status_code == 200:\n",
    "                    print(row['productId'] + '  **  -3')\n",
    "                    file1.write(url1)\n",
    "                    file1.write(\"\\n\")\n",
    "                    img = Image.open(BytesIO(response.content))\n",
    "                    img.save('images/'+row['productId']+'.jpeg')\n",
    "                else:\n",
    "                    url1 = url.split(';')[-4]\n",
    "                    response = requests.get(url1, allow_redirects=True)\n",
    "                    if response.status_code == 200:\n",
    "                        print(row['productId'] + '  **  -4')\n",
    "                        file1.write(url1)\n",
    "                        file1.write(\"\\n\")\n",
    "                        img = Image.open(BytesIO(response.content))\n",
    "                        img.save('images/'+row['productId']+'.jpeg')\n",
    "                    else:\n",
    "                        print(row['productId'])"
   ]
  },
  {
   "cell_type": "code",
   "execution_count": null,
   "metadata": {},
   "outputs": [],
   "source": []
  },
  {
   "cell_type": "code",
   "execution_count": null,
   "metadata": {},
   "outputs": [],
   "source": []
  },
  {
   "cell_type": "code",
   "execution_count": null,
   "metadata": {},
   "outputs": [],
   "source": []
  },
  {
   "cell_type": "code",
   "execution_count": null,
   "metadata": {},
   "outputs": [],
   "source": []
  },
  {
   "cell_type": "code",
   "execution_count": null,
   "metadata": {},
   "outputs": [],
   "source": []
  },
  {
   "cell_type": "markdown",
   "metadata": {},
   "source": [
    "## Url split and selecting image link."
   ]
  },
  {
   "cell_type": "code",
   "execution_count": null,
   "metadata": {},
   "outputs": [],
   "source": []
  },
  {
   "cell_type": "code",
   "execution_count": 47,
   "metadata": {},
   "outputs": [
    {
     "data": {
      "text/plain": [
       "'http://img.fkcdn.com/image/top/9/w/f/1-1-tp84-fasnoya-s-original-imae7xjybzgnmw5a.jpeg;http://img.fkcdn.com/image/top/9/w/f/1-1-tp84-fasnoya-s-200x200-imae7xjybzgnmw5a.jpeg;http://img.fkcdn.com/image/top/9/w/f/1-1-tp84-fasnoya-s-400x400-imae7xjybzgnmw5a.jpeg;http://img.fkcdn.com/image/top/9/w/f/1-1-tp84-fasnoya-s-800x800-imae7xjybzgnmw5a.jpeg'"
      ]
     },
     "execution_count": 47,
     "metadata": {},
     "output_type": "execute_result"
    }
   ],
   "source": [
    "url"
   ]
  },
  {
   "cell_type": "code",
   "execution_count": 52,
   "metadata": {},
   "outputs": [
    {
     "data": {
      "text/plain": [
       "'http://img.fkcdn.com/image/top/9/w/f/1-1-tp84-fasnoya-s-400x400-imae7xjybzgnmw5a.jpeg'"
      ]
     },
     "execution_count": 52,
     "metadata": {},
     "output_type": "execute_result"
    }
   ],
   "source": [
    "url.split(';')[-2]"
   ]
  }
 ],
 "metadata": {
  "kernelspec": {
   "display_name": "Python 3",
   "language": "python",
   "name": "python3"
  },
  "language_info": {
   "codemirror_mode": {
    "name": "ipython",
    "version": 3
   },
   "file_extension": ".py",
   "mimetype": "text/x-python",
   "name": "python",
   "nbconvert_exporter": "python",
   "pygments_lexer": "ipython3",
   "version": "3.7.4"
  }
 },
 "nbformat": 4,
 "nbformat_minor": 2
}
